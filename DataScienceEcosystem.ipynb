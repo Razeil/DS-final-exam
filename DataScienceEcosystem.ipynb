{
 "cells": [
  {
   "cell_type": "markdown",
   "id": "f4ba36bc",
   "metadata": {},
   "source": [
    "# Data Science tools and Ecosystems"
   ]
  },
  {
   "cell_type": "markdown",
   "id": "c2e6e6de",
   "metadata": {},
   "source": [
    "In this notebook, Data Science Tools and Ecosystem are summarized."
   ]
  },
  {
   "cell_type": "markdown",
   "id": "dbeadaef",
   "metadata": {},
   "source": [
    "**Objectives** :\n",
    "- list popular languages in Data Science\n",
    "- list popular data science libraries\n",
    "- list popular data science development environments \n",
    "- write a simple math expression (for simple calculations)\n",
    "- review your knowledge"
   ]
  },
  {
   "cell_type": "markdown",
   "id": "929f7bfd",
   "metadata": {},
   "source": [
    "Some of the popular languages that Data Scientists use are:\n",
    "1. R\n",
    "2. Python \n",
    "3. Scala\n",
    "4. Julia\n",
    "5. Scala"
   ]
  },
  {
   "cell_type": "markdown",
   "id": "b080d883",
   "metadata": {},
   "source": [
    "Some of the commonly used libraries used by Data Scientists include:\n",
    "1. NumPy\n",
    "2. Keras\n",
    "3. Pandas\n",
    "4. Tensorflow\n",
    "5. ggPlot"
   ]
  },
  {
   "cell_type": "markdown",
   "id": "8b888670",
   "metadata": {},
   "source": [
    "|Data Science Tools|\n",
    "|:---|\n",
    "| Anaconda | \n",
    "| RStudio | \n",
    "| Microsoft Visual Studio |\n"
   ]
  },
  {
   "cell_type": "markdown",
   "id": "6d113f93",
   "metadata": {},
   "source": [
    "### Below are a few examples of evaluating arithmetic expressions in Python."
   ]
  },
  {
   "cell_type": "code",
   "execution_count": 2,
   "id": "7c4d6396",
   "metadata": {},
   "outputs": [
    {
     "data": {
      "text/plain": [
       "17"
      ]
     },
     "execution_count": 2,
     "metadata": {},
     "output_type": "execute_result"
    }
   ],
   "source": [
    "# This a simple arithmetic expression to mutiply then add integers\n",
    "(3*4)+5"
   ]
  },
  {
   "cell_type": "code",
   "execution_count": 9,
   "id": "f87adef0",
   "metadata": {},
   "outputs": [
    {
     "data": {
      "text/plain": [
       "3.3333333333333335"
      ]
     },
     "execution_count": 9,
     "metadata": {},
     "output_type": "execute_result"
    }
   ],
   "source": [
    "# This will convert 200 minutes to hours by diving by 60\n",
    "200/60"
   ]
  },
  {
   "cell_type": "markdown",
   "id": "e5d47b4d",
   "metadata": {},
   "source": [
    "## Author\n",
    "Pawel"
   ]
  }
 ],
 "metadata": {
  "kernelspec": {
   "display_name": "Python 3 (ipykernel)",
   "language": "python",
   "name": "python3"
  },
  "language_info": {
   "codemirror_mode": {
    "name": "ipython",
    "version": 3
   },
   "file_extension": ".py",
   "mimetype": "text/x-python",
   "name": "python",
   "nbconvert_exporter": "python",
   "pygments_lexer": "ipython3",
   "version": "3.11.7"
  }
 },
 "nbformat": 4,
 "nbformat_minor": 5
}
